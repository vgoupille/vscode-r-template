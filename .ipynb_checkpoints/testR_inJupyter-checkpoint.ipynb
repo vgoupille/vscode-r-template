{
 "cells": [
  {
   "cell_type": "code",
   "execution_count": 1,
   "id": "4126e51e-6ebc-43a3-9b3d-50e228aa013b",
   "metadata": {},
   "outputs": [
    {
     "name": "stderr",
     "output_type": "stream",
     "text": [
      "\n",
      "Attaching package: ‘dplyr’\n",
      "\n",
      "\n",
      "The following objects are masked from ‘package:stats’:\n",
      "\n",
      "    filter, lag\n",
      "\n",
      "\n",
      "The following objects are masked from ‘package:base’:\n",
      "\n",
      "    intersect, setdiff, setequal, union\n",
      "\n",
      "\n"
     ]
    },
    {
     "data": {
      "text/plain": [
       "     BRCA1            TP53            EGFR            KRAS      \n",
       " Min.   :1.627   Min.   :4.194   Min.   :1.067   Min.   :2.724  \n",
       " 1st Qu.:3.051   1st Qu.:4.546   1st Qu.:2.589   1st Qu.:3.817  \n",
       " Median :4.866   Median :5.152   Median :4.471   Median :5.181  \n",
       " Mean   :5.142   Mean   :5.271   Mean   :4.391   Mean   :5.370  \n",
       " 3rd Qu.:7.180   3rd Qu.:5.977   3rd Qu.:5.678   3rd Qu.:6.521  \n",
       " Max.   :8.574   Max.   :6.676   Max.   :8.117   Max.   :9.338  \n",
       "      PTEN         SampleID        \n",
       " Min.   :3.750   Length:10         \n",
       " 1st Qu.:4.068   Class :character  \n",
       " Median :4.536   Mode  :character  \n",
       " Mean   :5.170                     \n",
       " 3rd Qu.:6.297                     \n",
       " Max.   :7.508                     "
      ]
     },
     "metadata": {},
     "output_type": "display_data"
    },
    {
     "name": "stdout",
     "output_type": "stream",
     "text": [
      "   BRCA1     TP53     EGFR     KRAS     PTEN \n",
      "5.141671 5.271252 4.391266 5.369952 5.169894 \n"
     ]
    },
    {
     "data": {
      "image/png": "[encoded data removed]",
      "text/plain": [
       "plot without title"
      ]
     },
     "metadata": {
      "image/png": {
       "height": 420,
       "width": 420
      }
     },
     "output_type": "display_data"
    }
   ],
   "source": [
    "# Basic R test script for bioinformatics\n",
    "# This script demonstrates basic R functionality and some bioinformatics operations\n",
    "\n",
    "# Load required libraries (if not installed, you'll need to install them first)\n",
    "# install.packages(c(\"ggplot2\", \"dplyr\"))\n",
    "library(ggplot2)\n",
    "library(dplyr)\n",
    "\n",
    "# Create some example biological data\n",
    "# Simulating gene expression data for 5 genes across 10 samples\n",
    "set.seed(123)  # For reproducibility\n",
    "gene_names <- c(\"BRCA1\", \"TP53\", \"EGFR\", \"KRAS\", \"PTEN\")\n",
    "sample_ids <- paste0(\"Sample_\", 1:10)\n",
    "\n",
    "# Generate random expression values\n",
    "expression_data <- matrix(rnorm(50, mean = 5, sd = 2), \n",
    "                         nrow = 5, \n",
    "                         ncol = 10, \n",
    "                         dimnames = list(gene_names, sample_ids))\n",
    "\n",
    "# Convert to data frame for easier manipulation\n",
    "expression_df <- as.data.frame(t(expression_data))\n",
    "expression_df$SampleID <- sample_ids\n",
    "\n",
    "# Basic statistics\n",
    "summary(expression_df)\n",
    "\n",
    "# Calculate mean expression per gene\n",
    "gene_means <- colMeans(expression_df[, gene_names])\n",
    "print(gene_means)\n",
    "\n",
    "# Simple visualization\n",
    "# Convert to long format for ggplot\n",
    "expression_long <- expression_df %>%\n",
    "  tidyr::pivot_longer(cols = all_of(gene_names), \n",
    "                     names_to = \"Gene\", \n",
    "                     values_to = \"Expression\")\n",
    "\n",
    "# Create a boxplot of gene expression\n",
    "p <- ggplot(expression_long, aes(x = Gene, y = Expression, fill = Gene)) +\n",
    "  geom_boxplot() +\n",
    "  theme_minimal() +\n",
    "  labs(title = \"Gene Expression Distribution\",\n",
    "       x = \"Gene\",\n",
    "       y = \"Expression Level\") +\n",
    "  theme(axis.text.x = element_text(angle = 45, hjust = 1))\n",
    "\n",
    "# Display the plot\n",
    "print(p)"
   ]
  }
 ],
 "metadata": {
  "kernelspec": {
   "display_name": "R",
   "language": "R",
   "name": "r"
  },
  "language_info": {
   "codemirror_mode": "r",
   "file_extension": ".r",
   "mimetype": "text/x-r-source",
   "name": "R",
   "pygments_lexer": "r",
   "version": "4.4.0"
  }
 },
 "nbformat": 4,
 "nbformat_minor": 5
}
